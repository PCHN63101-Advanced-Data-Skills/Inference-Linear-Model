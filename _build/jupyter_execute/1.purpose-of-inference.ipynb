{
 "cells": [
  {
   "cell_type": "markdown",
   "id": "8a6b3fd6-1753-45e7-a920-fccf68cbdcac",
   "metadata": {},
   "source": [
    "# The Purpose of Statistical Inference\n",
    "In our previous weeks, we have established a very general framework for statistical modelling and have examined one particular case in the form of simple/multiple regression. Throughout all of this, our aim was to say something about a *population* on the basis of a *sample*. At the end of the previous lesson, we were left with an estimated model that we visualised and interpreted in a very general sense. However, it is important to remind ourseleves that we are not really interested in the *estimates* per-se. What we are interested in is the *population values*. We may well have a slope estimate of $\\hat{\\beta}_{1} = -3.80$, but our real question is whether the *real* slope is equal to $-3.80$, or whether $-3.80$ is even close to the real value? In general saying something about only a single specific group of measurements is not very useful scientifically. However, saying something much more general *is* very useful, because we can make predictions about the future, implementing changes that have real-world consequences and developing theories that apply to the population as a whole. Our desire is therefore to go from our one specific sample and generalise much more widely. Although this sounds like a reasonable aim, this whole endeavour is actually on shaky logical ground."
   ]
  },
  {
   "cell_type": "markdown",
   "id": "61418881",
   "metadata": {},
   "source": [
    "## Deductive vs Inductive Reasoning\n",
    "\n",
    "An example of a logically valid modus tollens would be:\n",
    "\n",
    "1. If it is raining, the ground will be wet.\n",
    "2. The ground is not wet.\n",
    "3. Therefore, it is not raining.\n",
    "\n",
    "If the premises are *true* then the conclusion *has* to be true. As another example:\n",
    "\n",
    "1. All humans are mortal.\n",
    "2. Socrates is a human.\n",
    "3. Therefore, Socrates is mortal.\n",
    "\n",
    "This is perfectly logically valid. Both premises are true and thus the conclusion must also be true."
   ]
  },
  {
   "cell_type": "markdown",
   "id": "47953256",
   "metadata": {},
   "source": [
    "## The Problem of Induction\n",
    "\n",
    "```{figure} images/hulme.png\n",
    "---\n",
    "scale: 25%\n",
    "align: left\n",
    "---\n",
    "```\n",
    "\n",
    "The problem of induction was articuled by the Scottish philosopher [David Hulme](https://en.wikipedia.org/wiki/David_Hume) ...\n",
    "\n",
    "\n",
    "As an example, why do you believe the sun will rise tomorrow morning? The answer is probably because it has always risen in the past. However, this is a circular argument because it relies on induction to justify induction. To make this clearer, the argument is\n",
    "\n",
    "1. The sun has risen every day in the past\n",
    "2. Therefore, the sun will rise tomorrow\n",
    "\n",
    "```{figure} images/circular-reasoning.jpg\n",
    "---\n",
    "scale: 40%\n",
    "align: right\n",
    "---\n",
    "```\n",
    "\n",
    "But to get from 1 to 2, you have to make the assumption that the future will always represent the past. You have justified the assumption that the future resembles the past by appealing to the fact that it has resembled the past in the past. The conclusion therefore cannot be reached with pure logic because it relies on an extra assumption. Or, to put it another way, \"predicting the future from the past works because predicting the future from the past works...\". We have justified our logic using the logic we are trying to justify. As such, Hulme's insight is that you can *never* deduce future regularities from past experience because this relies on circular reasoning[^probfoot]. So in what way are we ever able to logically justify reaching general conclusions from specific instances? This is not just an issue for statistical inference, as it puts the whole enterprise of science into question."
   ]
  },
  {
   "cell_type": "markdown",
   "id": "fbbbcc2f",
   "metadata": {},
   "source": [
    "```{epigraph}\n",
    "All our experimental conclusions depend on the supposition that the course of nature continues uniformly the same.\n",
    "\n",
    "-- David Hume\n",
    "```"
   ]
  },
  {
   "cell_type": "markdown",
   "id": "e6193016",
   "metadata": {},
   "source": [
    "## Statistical Inferences as Induction\n",
    "On the face of it, statistical inference is precisely an exercise in induction. As such, taking a hard-nosed perspective, statistical inference can *never* be logically justified. Fundamentally, statistical inference is based on assuming that predictions about the future will resemble the past and thus cannot be justified using pure logic. Although this may seem highly problematic, induction within statistics (as well as more broadly in science) can be coherently structured, pragmatically justified and rationally defensible, even if it cannot make peace with a pure framework of logic. In other words, statistical inference is *useful*, even if it is on shaky logical ground.\n",
    "\n",
    "....\n",
    "\n",
    "Although we would ideally want scientific reasoning to be deductive and thus justifiable purely on logical grounds, the process of scientific discovery usually takes the form\n",
    "\n",
    "1. If theory $T$ is true, then data $D$ is likely.\n",
    "2. We observe $D$.\n",
    "3. Therefore, $T$ is probably true.\n",
    "\n",
    "This is not deductive. Although the premises may well be correct, it does not follow that theory $T$ is true as there may be many other theories that could explain the observation of $D$. If we instead state that theory $T$ is *probably* true, then we have moved from pure reason into the world of probability. By saying that $T$ is *probably* true, we are accepting that it may be incorrect and thus the conclusion is not a certainty based on the premises.\n",
    "\n",
    "....\n",
    "\n",
    "The important point of all of this is that *inference is where the controversy lies*. There is nothing controversial about building a statistical model and then finding parameter estimates that make the data as probable as possible. What is controversial is trying to say something about the population as a whole based on that model. Indeed, arguments within statistics about Frequentist vs Bayesian approaches are often centred on how this different paradigms treat inductive inference. Furthermore, this is not just an issue with statistics, but with science as a whole. We assume that if our experiments have worked in the past, then they will continue to work in the future. But, as Hulme articulated, there is no pure logical justification for this. "
   ]
  },
  {
   "cell_type": "markdown",
   "id": "372c3390",
   "metadata": {},
   "source": [
    "## Modern Science and Induction\n",
    "The problem of induction has not been solved. However, modern science has effectively *outmaneuvered* it on pragmatic grounds. ... However, it is important to understand the fact that statistical inference as an exercise in induction cannot be rationalised on pure logical ground. The act of performing inference is an act of pragmatic reasoning based on past success. However, there is no singular \"correct\" method for performing inference. We have one approach, called *null hypothesis significance testing*, that has gained much traction within the field of experimental psychology. However, this method is also controversial and other approaches do exist (such as Bayesian inference). In order to be a strong data analyst and experimental psychologist, this lack of logical grounding for inductive reasoning is important to understand, as well as how this influences the methods we use to try and make generalisations from our data, even if technically we have no logical justification for doing so.    "
   ]
  },
  {
   "cell_type": "markdown",
   "id": "06177402",
   "metadata": {},
   "source": [
    "[^probfoot]: You might think to skirt this issue by making it probabilistic. For instance, \"the sun has always risen in the past, therefore it is highly probable that it will rise tomorrow\". However, this has the same issue of circular reasoning because it requires the assumption that past frequencies of an event can justify a belief about the future. In doing so, our only argument is that this has worked in the past and we hit the same problem.   "
   ]
  },
  {
   "cell_type": "markdown",
   "id": "b9f14eb4",
   "metadata": {},
   "source": []
  }
 ],
 "metadata": {
  "kernelspec": {
   "display_name": "R",
   "language": "R",
   "name": "ir"
  },
  "language_info": {
   "codemirror_mode": "r",
   "file_extension": ".r",
   "mimetype": "text/x-r-source",
   "name": "R",
   "pygments_lexer": "r",
   "version": "4.5.0"
  }
 },
 "nbformat": 4,
 "nbformat_minor": 5
}