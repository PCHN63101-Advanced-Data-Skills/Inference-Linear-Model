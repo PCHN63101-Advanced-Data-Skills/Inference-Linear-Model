{
 "cells": [
  {
   "cell_type": "markdown",
   "id": "8a6b3fd6-1753-45e7-a920-fccf68cbdcac",
   "metadata": {},
   "source": [
    "# The Purpose of Statistical Inference"
   ]
  },
  {
   "cell_type": "markdown",
   "id": "61418881",
   "metadata": {},
   "source": [
    "## Deductive vs Inductive Reasoning\n",
    "\n",
    "An example of a logically valid modus tollens would be:\n",
    "\n",
    "1. If it is raining, the ground will be wet.\n",
    "2. The ground is not wet.\n",
    "3. Therefore, it is not raining.\n",
    "\n",
    "If the premises are *true* then the conclusion *has* to be true. As another example:\n",
    "\n",
    "1. All humans are mortal.\n",
    "2. Socrates is a human.\n",
    "3. Therefore, Socrates is mortal.\n",
    "\n",
    "This is perfectly logically valid. Both premises are true and thus the conclusion must also be true."
   ]
  },
  {
   "cell_type": "markdown",
   "id": "47953256",
   "metadata": {},
   "source": [
    "## The Problem of Induction\n",
    "\n",
    "Although we would ideally want scientific reasoning to be deductive and thus justifiable purely on logical grounds, the process of scientific discovery usually takes the form\n",
    "\n",
    "1. If theory $T$ is true, then data $D$ is likely.\n",
    "2. We observe $D$.\n",
    "3. Therefore, $T$ is probably true.\n",
    "\n",
    "This is not deductive. Although the premises may well be correct, it does not follow that theory $T$ is true as there may be many other theories that could explain the observation of $D$. If we instead state that theory $T$ is *probably* true, then we have moved from pure reason into the world of probability. By saying that $T$ is *probably* true, we are accepting that it may be incorrect and thus the conclusion is not a certainty based on the premises."
   ]
  },
  {
   "cell_type": "markdown",
   "id": "fbbbcc2f",
   "metadata": {},
   "source": [
    "```{epigraph}\n",
    "All our experimental conclusions depend on the supposition that the course of nature continues uniformly the same.\n",
    "\n",
    "-- David Hume\n",
    "```"
   ]
  },
  {
   "cell_type": "markdown",
   "id": "e6193016",
   "metadata": {},
   "source": [
    "## Statistical Inferences as Induction\n",
    "On the face of it, statistical inference is precisely an exercise in induction. As such, taking a hard-nosed perspective, statistical inference can *never* be logically justified. Fundamentally, statistical inference is based on assuming that predictions about the future will resemble the past and thus cannot be justified using pure logic. Although this may seem highly problematic, induction within statistics (as well as more broadly in science) can be coherently structured, pragmatically justified and rationally defensible, even if it cannot make peace with a pure framework of logic. In other words, statistical inference is *useful*, even if it is on shaky logical ground."
   ]
  },
  {
   "cell_type": "markdown",
   "id": "06177402",
   "metadata": {},
   "source": []
  }
 ],
 "metadata": {
  "kernelspec": {
   "display_name": "R",
   "language": "R",
   "name": "ir"
  },
  "language_info": {
   "codemirror_mode": "r",
   "file_extension": ".r",
   "mimetype": "text/x-r-source",
   "name": "R",
   "pygments_lexer": "r",
   "version": "4.5.0"
  }
 },
 "nbformat": 4,
 "nbformat_minor": 5
}