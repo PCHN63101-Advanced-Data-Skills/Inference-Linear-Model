{
 "cells": [
  {
   "cell_type": "markdown",
   "id": "0aff9971-428c-4632-8dcc-2451ce81b45b",
   "metadata": {
    "tags": []
   },
   "source": [
    "# Introduction\n",
    "So far on this unit, we have examined a general framework for statistical modelling and have examined a specific instance of this framework in the context of simple and multiple regression. Throughout all of this, our interest remains on the values of the *population parameters*. Although we have a sample from this population and have estimated parameter values, we do not know how to go from those particular estimates to reaching more general conclusions about the population. This is the domain of *statistical inference*. We wish to *infer* something about our population of interest on the basis of our sample. In this lesson, we will be examining a particular approach to statistical inference known as *null hypothesis significance testing* (NHST). You may already be familiar with this method, but in this lesson we will be taking a non-traditional approach to this topic. To begin with, we will be examining the philosophical and logical justifications for statistical inference. In particular, examining the difficult case of *inductive* reasoning. We will then examine the mechanics of NHST, but from our current perspective of parameter estimates in a linear model. As part of this, we will discuss the history of the development of NHST as this is illuminating in terms of whether our modern use of NHST is actually logically valid. Finally, we will discuss the controversy around using NHST. In particular, we will focus on the core *problems* with this method and what those problems imply for the continued used of NHST in Experimental Psychology. \n",
    "\n",
    "## Contents\n",
    "\n",
    "```{tableofcontents}\n",
    "```\n",
    "\n",
    "## About the Authors\n",
    "</br>\n",
    "\n",
    "```{figure} images/martyn.jpeg\n",
    "---\n",
    "scale: 15%\n",
    "align: left\n",
    "---\n",
    "```\n",
    "\n",
    "**Dr Martyn McFarquhar | PhD FHEA**\n",
    "\n",
    "Lecturer in Neuroimaging\n",
    "\n",
    "4.33 Booth Street East | Division of Psychology, Communication and Human Neuroscience | School of Health Sciences | The University of Manchester M13 9PL\n",
    "\n",
    "t: +44 (0)161 275 2688 | e: [martyn.mcfarquhar@manchester.ac.uk](mailto:martyn.mcfarquhar@manchester.ac.uk)\n",
    "</br>\n",
    "</br>\n",
    "</br>\n",
    "</br>\n",
    "\n",
    "```{figure} images/george.jpg\n",
    "---\n",
    "scale: 80%\n",
    "align: right\n",
    "---\n",
    "```\n",
    "\n",
    "**Dr George Farmer | PhD**\n",
    "\n",
    "Lecturer \n",
    "\n",
    "... Dover Street Building | Division of Psychology, Communication and Human Neuroscience | School of Health Sciences | The University of Manchester M13 9PL\n",
    "\n",
    "t: +44 (0)161 275 ... | e: [george.farmer@manchester.ac.uk](mailto:george.farmer@manchester.ac.uk)"
   ]
  },
  {
   "cell_type": "markdown",
   "id": "31eba766",
   "metadata": {},
   "source": []
  }
 ],
 "metadata": {
  "kernelspec": {
   "display_name": "R",
   "language": "R",
   "name": "ir"
  },
  "language_info": {
   "codemirror_mode": "r",
   "file_extension": ".r",
   "mimetype": "text/x-r-source",
   "name": "R",
   "pygments_lexer": "r",
   "version": "4.3.3"
  }
 },
 "nbformat": 4,
 "nbformat_minor": 5
}