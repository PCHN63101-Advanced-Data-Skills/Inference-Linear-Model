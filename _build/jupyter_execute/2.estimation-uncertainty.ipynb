{
 "cells": [
  {
   "cell_type": "markdown",
   "id": "8a6b3fd6-1753-45e7-a920-fccf68cbdcac",
   "metadata": {},
   "source": [
    "# Uncertainty in Estimation\n",
    "In the previous section, we took a detour into the philosophy of science and the logical ground upon which statistical inference is based. For the moment, let us put that discussion to one side and get back to our statistical model. We will see where the problem of induction comes into play when we start discussing null hypothesis significance testing later in the lesson."
   ]
  },
  {
   "cell_type": "markdown",
   "id": "cc356651",
   "metadata": {},
   "source": [
    "## Parameter Estimates as Random Variables"
   ]
  },
  {
   "cell_type": "markdown",
   "id": "b2271863",
   "metadata": {},
   "source": []
  }
 ],
 "metadata": {
  "kernelspec": {
   "display_name": "R",
   "language": "R",
   "name": "ir"
  },
  "language_info": {
   "codemirror_mode": "r",
   "file_extension": ".r",
   "mimetype": "text/x-r-source",
   "name": "R",
   "pygments_lexer": "r",
   "version": "4.5.0"
  }
 },
 "nbformat": 4,
 "nbformat_minor": 5
}