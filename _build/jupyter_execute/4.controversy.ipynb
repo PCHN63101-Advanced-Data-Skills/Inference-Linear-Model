{
 "cells": [
  {
   "cell_type": "markdown",
   "id": "8a6b3fd6-1753-45e7-a920-fccf68cbdcac",
   "metadata": {},
   "source": [
    "# The Controversy of NHST\n",
    "..."
   ]
  },
  {
   "cell_type": "markdown",
   "id": "5a18d2fe",
   "metadata": {},
   "source": [
    "## The ASA Statement on $p$-values"
   ]
  },
  {
   "cell_type": "markdown",
   "id": "04b0c0f2",
   "metadata": {},
   "source": []
  }
 ],
 "metadata": {
  "kernelspec": {
   "display_name": "R",
   "language": "R",
   "name": "ir"
  },
  "language_info": {
   "codemirror_mode": "r",
   "file_extension": ".r",
   "mimetype": "text/x-r-source",
   "name": "R",
   "pygments_lexer": "r",
   "version": "4.5.0"
  }
 },
 "nbformat": 4,
 "nbformat_minor": 5
}