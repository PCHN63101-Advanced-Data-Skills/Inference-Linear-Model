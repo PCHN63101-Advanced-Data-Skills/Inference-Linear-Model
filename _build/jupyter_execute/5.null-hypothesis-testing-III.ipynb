{
 "cells": [
  {
   "cell_type": "markdown",
   "id": "8a6b3fd6-1753-45e7-a920-fccf68cbdcac",
   "metadata": {},
   "source": [
    "# NHST III: Statistical Significance\n",
    "... As explained previously, we begin by determining a null value for our parameter of interest and then compare that value to the actual value we have calculated to produce a *difference* called $\\delta$. For all the reasons given in the previous part of the lesson, we then convert $\\delta$ into a standardised value called a *test statistic*. This is typically a $t$-statistic, which expressed $\\delta$ in standard error units. Under the null hypothesis, the $t$-statistic has a $t$-distribution, whose width is governed by a parameter known as the *degrees of freedom*. This allows the distribution to accommodate how the precision of the estimated standard error influences the range of probable $t$-values under the null. So, we now have a test statistic that captures the deviation from the null in our dataset. Given that we also know how $t$ will be distributed when the null is true, our very last step is to calculate the *probability* of observing this value of $t$, if the null hypothesis were correct. This probability is known as a $p$-value."
   ]
  },
  {
   "cell_type": "markdown",
   "id": "6a16f292",
   "metadata": {},
   "source": [
    "## The $p$-value\n",
    "\n",
    "Probabilities from continuous distributions are given by the area under the curve either *above* or *below* the value. So we are not calculating the probability of getting this *exact* value of $t$. Rather, it is the probability of this value of $t$ *or larger*.\n",
    "\n",
    "Fisher actually viewed $p$-values as continuous evidence against the null, rather than as a threshold value for declaring significance. In fact, although the criterion of 0.05 is attributed to Fisher, it is insightful to see what he *actually* said about it:\n",
    "\n",
    "```{epigraph}\n",
    "The value for which $p = 0.05$, or 1 in 20, is convenient to use in practice if we want to draw a line beyond which we say that the deviation is significant, but it must not be forgotten that we shall often draw such a line when there is nothing there but chance.\n",
    "\n",
    "-- Ronald Fisher\n",
    "```\n",
    "\n",
    "So, Fisher viewed this criterion as a convenient heuristic, but fully acknowledged its limitations and did not ever state that we should *reject* the null hypothesis when $p < 0.05$. Indeed, Fisher strongly disagreed with the Neyman-Pearson concept of rejecting or failing to reject the null\n",
    "\n",
    "```{epigraph}\n",
    "It is a mistake to speak of the null hypothesis as though it were a thing we are testing, or as though we were trying to accept or reject it.\n",
    "\n",
    "-- Ronald Fisher\n",
    "```\n",
    "\n",
    "Indeed, in Fisher's conceptualising a small $p$-value simply means that the data are surpring under the null, whereas a large $p$-value means that the data are not surprising under the null. Smaller $p$-values present more evidence against the null, but only so far as we make the logical leap of saying that very suprising data make it less likely that the null is correct. However, we would not *reject* the null, because it still remains possible that the null is correct. All we are saying is that the data we have are less compatible with the null. Nothing more."
   ]
  },
  {
   "cell_type": "markdown",
   "id": "a4c9400e",
   "metadata": {},
   "source": [
    "## Fisher vs Neyman-Pearson"
   ]
  },
  {
   "cell_type": "markdown",
   "id": "69a0fb4e",
   "metadata": {},
   "source": [
    "## Confidence Intervals\n",
    "\n",
    "What we were actually looking at here were 68% confidence intervals.\n",
    "\n",
    "Notice that this depends upon assuming normality."
   ]
  },
  {
   "cell_type": "markdown",
   "id": "d11be775",
   "metadata": {},
   "source": [
    "## NHST in `R`"
   ]
  },
  {
   "cell_type": "code",
   "execution_count": 6,
   "id": "60324495",
   "metadata": {
    "vscode": {
     "languageId": "r"
    }
   },
   "outputs": [
    {
     "data": {
      "text/plain": [
       "\n",
       "Call:\n",
       "lm(formula = mpg ~ wt + hp + disp, data = mtcars)\n",
       "\n",
       "Residuals:\n",
       "   Min     1Q Median     3Q    Max \n",
       "-3.891 -1.640 -0.172  1.061  5.861 \n",
       "\n",
       "Coefficients:\n",
       "             Estimate Std. Error t value Pr(>|t|)    \n",
       "(Intercept) 37.105505   2.110815  17.579  < 2e-16 ***\n",
       "wt          -3.800891   1.066191  -3.565  0.00133 ** \n",
       "hp          -0.031157   0.011436  -2.724  0.01097 *  \n",
       "disp        -0.000937   0.010350  -0.091  0.92851    \n",
       "---\n",
       "Signif. codes:  0 '***' 0.001 '**' 0.01 '*' 0.05 '.' 0.1 ' ' 1\n",
       "\n",
       "Residual standard error: 2.639 on 28 degrees of freedom\n",
       "Multiple R-squared:  0.8268,\tAdjusted R-squared:  0.8083 \n",
       "F-statistic: 44.57 on 3 and 28 DF,  p-value: 8.65e-11\n"
      ]
     },
     "metadata": {},
     "output_type": "display_data"
    }
   ],
   "source": [
    "data(mtcars)\n",
    "\n",
    "mod <- lm(mpg ~ wt + hp + disp, data=mtcars)\n",
    "summary(mod)"
   ]
  },
  {
   "cell_type": "markdown",
   "id": "f940dabf",
   "metadata": {},
   "source": [
    "We can also produce confidence intervals using the `confint()` function"
   ]
  },
  {
   "cell_type": "code",
   "execution_count": 7,
   "id": "14aa51e6",
   "metadata": {
    "vscode": {
     "languageId": "r"
    }
   },
   "outputs": [
    {
     "name": "stdout",
     "output_type": "stream",
     "text": [
      "                  2.5 %       97.5 %\n",
      "(Intercept) 32.78169625 41.429314293\n",
      "wt          -5.98488310 -1.616898063\n",
      "hp          -0.05458171 -0.007731388\n",
      "disp        -0.02213750  0.020263482\n"
     ]
    }
   ],
   "source": [
    "print(confint(mod, level=0.95))"
   ]
  },
  {
   "cell_type": "markdown",
   "id": "b1da49c3",
   "metadata": {},
   "source": [
    "Notably, other confidence interval levels can be produced. For instance, the intervals we used previous of $\\pm 1 \\times \\text{SE}$ correspond to an approximate 68% CI, as shown below."
   ]
  },
  {
   "cell_type": "code",
   "execution_count": 8,
   "id": "e2d6d00e",
   "metadata": {
    "vscode": {
     "languageId": "r"
    }
   },
   "outputs": [
    {
     "name": "stdout",
     "output_type": "stream",
     "text": [
      "                   16 %         84 %\n",
      "(Intercept) 34.96844420 39.242566342\n",
      "wt          -4.88033821 -2.721442954\n",
      "hp          -0.04273454 -0.019578564\n",
      "disp        -0.01141544  0.009541424\n"
     ]
    }
   ],
   "source": [
    "print(confint(mod, level=0.68))"
   ]
  },
  {
   "cell_type": "markdown",
   "id": "d81749d2",
   "metadata": {},
   "source": [
    "Note, however, that we do not need to prescribe to the theory of CIs in order to interpret our parameters in terms of $\\pm 1 \\times \\text{SE}$ or $\\pm 2 \\times \\text{SE}$ or whatever we want. The interpretation remains valid. The part that theory of CIs adds is the *probabilistic* information about the interval. So, the 68% part or the 95% part. These percentages are only valid under the assumptions of CIs. So we can interpret any interval around the estimates we like, however, we need to make further assumptions in order to make any probabilistic claims about the interval's behaviour over reapeated sampling.\n",
    "\n",
    "However, it is not very typical to do this as 95% CIs are considered the standard due to their compatibility with $\\alpha = 0.05$."
   ]
  },
  {
   "cell_type": "markdown",
   "id": "a4c05833",
   "metadata": {},
   "source": [
    "[^overunderfoot]: We will get more *overestimates* as well, leading to smaller test-statistic values. These are also ca"
   ]
  }
 ],
 "metadata": {
  "kernelspec": {
   "display_name": "R",
   "language": "R",
   "name": "ir"
  },
  "language_info": {
   "codemirror_mode": "r",
   "file_extension": ".r",
   "mimetype": "text/x-r-source",
   "name": "R",
   "pygments_lexer": "r",
   "version": "4.5.0"
  }
 },
 "nbformat": 4,
 "nbformat_minor": 5
}