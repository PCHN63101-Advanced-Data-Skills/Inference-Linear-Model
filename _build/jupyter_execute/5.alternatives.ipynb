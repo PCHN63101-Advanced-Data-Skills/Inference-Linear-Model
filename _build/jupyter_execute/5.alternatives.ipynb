{
 "cells": [
  {
   "cell_type": "markdown",
   "id": "8a6b3fd6-1753-45e7-a920-fccf68cbdcac",
   "metadata": {},
   "source": [
    "# What Can We Do?"
   ]
  },
  {
   "cell_type": "markdown",
   "id": "ecaa44ae",
   "metadata": {},
   "source": [
    "## Treat $p$-values as Only *One* Piece of Evidence"
   ]
  },
  {
   "cell_type": "markdown",
   "id": "2d3eef5c",
   "metadata": {},
   "source": [
    "## Focus on Effects and Effect Sizes \n",
    "\n",
    "An issue with effect sizes is that we need some means of interpreting them, which requires some guidelines for \"small\", \"medium\" and \"large\" effects. If one core issue with $p$-values is that they dichotomise evidence, then this new system just serves to *trichotomise* evidence instead."
   ]
  },
  {
   "cell_type": "markdown",
   "id": "5d3b8ad3",
   "metadata": {},
   "source": [
    "## Use Bayesian Inference Instead"
   ]
  },
  {
   "cell_type": "markdown",
   "id": "494b838a",
   "metadata": {},
   "source": []
  }
 ],
 "metadata": {
  "kernelspec": {
   "display_name": "R",
   "language": "R",
   "name": "ir"
  },
  "language_info": {
   "codemirror_mode": "r",
   "file_extension": ".r",
   "mimetype": "text/x-r-source",
   "name": "R",
   "pygments_lexer": "r",
   "version": "4.5.0"
  }
 },
 "nbformat": 4,
 "nbformat_minor": 5
}